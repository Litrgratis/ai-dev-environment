{
 "cells": [
  {
   "cell_type": "markdown",
   "id": "b8d4856d",
   "metadata": {},
   "source": [
    "# Przykładowy notebook Jupyter dla ai-dev-environment"
   ]
  },
  {
   "cell_type": "code",
   "execution_count": null,
   "id": "96883d2b",
   "metadata": {},
   "outputs": [],
   "source": [
    "print('Hello, ai-dev-environment!')"
   ]
  }
 ],
 "metadata": {
  "language_info": {
   "name": "python"
  }
 },
 "nbformat": 4,
 "nbformat_minor": 5
}
